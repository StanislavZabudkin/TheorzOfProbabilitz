{
 "cells": [
  {
   "cell_type": "code",
   "execution_count": 2,
   "metadata": {},
   "outputs": [
    {
     "name": "stdout",
     "output_type": "stream",
     "text": [
      "интервал 78.04 - 81.96\n"
     ]
    }
   ],
   "source": [
    "import numpy as np\n",
    "#Известно, что генеральная совокупность распределена нормально со средним квадратическим отклонением, равным 16.\n",
    "#Найти доверительный интервал для оценки математического ожидания a с надежностью 0.95,\n",
    "#если выборочная средняя M = 80, а объем выборки n = 256.\n",
    "\n",
    "# формула X+-Za/2*Sigma/sqrt(n)\n",
    "\n",
    "dmin=80-1.96*16/16\n",
    "dmax=80+1.96*16/16\n",
    "print(f\"интервал {dmin} - {dmax}\")"
   ]
  },
  {
   "cell_type": "code",
   "execution_count": 37,
   "metadata": {},
   "outputs": [],
   "source": [
    "#В результате 10 независимых измерений некоторой величины X, выполненных с одинаковой точностью,\n",
    "#получены опытные данные:\n",
    "#6.9, 6.1, 6.2, 6.8, 7.5, 6.3, 6.4, 6.9, 6.7, 6.1\n",
    "\n",
    "#Предполагая, что результаты измерений подчинены нормальному закону распределения вероятностей,\n",
    "#оценить истинное значение величины X при помощи доверительного интервала, покрывающего это\n",
    "#значение с доверительной вероятностью 0,95.\n",
    "\n",
    "M = np.array([6.9, 6.1, 6.2, 6.8, 7.5, 6.3, 6.4, 6.9, 6.7, 6.1])\n",
    "\n"
   ]
  },
  {
   "cell_type": "code",
   "execution_count": 38,
   "metadata": {},
   "outputs": [
    {
     "name": "stdout",
     "output_type": "stream",
     "text": [
      "mean 6.590000000000001\n",
      "sdt 0.4508017549014448\n"
     ]
    }
   ],
   "source": [
    "print(f\"mean {M.mean()}\")\n",
    "print(f\"sdt {np.std(M, ddof=1)}\")"
   ]
  },
  {
   "cell_type": "code",
   "execution_count": 21,
   "metadata": {},
   "outputs": [],
   "source": [
    "maxval = M.mean()+2.262*np.std(M, ddof=1)/10"
   ]
  },
  {
   "cell_type": "code",
   "execution_count": 22,
   "metadata": {},
   "outputs": [],
   "source": [
    "minval = M.mean()-2.262*np.std(M, ddof=1)/10"
   ]
  },
  {
   "cell_type": "code",
   "execution_count": 23,
   "metadata": {},
   "outputs": [
    {
     "name": "stdout",
     "output_type": "stream",
     "text": [
      "интервал 6.488028643041294 - 6.691971356958708\n"
     ]
    }
   ],
   "source": [
    "print(f\"интервал {minval} - {maxval}\")"
   ]
  },
  {
   "cell_type": "code",
   "execution_count": 29,
   "metadata": {},
   "outputs": [
    {
     "name": "stdout",
     "output_type": "stream",
     "text": [
      "Z rashet 2.5\n",
      "Z table for 5% ( in table 95 %) 1.645 \n"
     ]
    }
   ],
   "source": [
    "#Утверждается, что шарики для подшипников, изготовленные автоматическим станком, имеют средний диаметр 17 мм.\n",
    "#Используя односторонний критерий с α=0,05, проверить эту гипотезу, если в выборке из n=100 шариков средний диаметр\n",
    "#оказался равным 17.5 мм, а дисперсия известна и равна 4 кв. мм.\n",
    "\n",
    "Z = (17.5-17)/(2)*10\n",
    "print(f\"Z rashet {Z}\")\n",
    "print(f\"Z table for 5% ( in table 95 %) 1.645 \")\n",
    "\n",
    "\n"
   ]
  },
  {
   "cell_type": "code",
   "execution_count": 30,
   "metadata": {},
   "outputs": [],
   "source": [
    "# Ответ то есть гипотеза неверна"
   ]
  },
  {
   "cell_type": "code",
   "execution_count": 32,
   "metadata": {},
   "outputs": [
    {
     "name": "stdout",
     "output_type": "stream",
     "text": [
      "[202 203 199 197 195 201 200 204 194 190]\n"
     ]
    }
   ],
   "source": [
    "#Продавец утверждает, что средний вес пачки печенья составляет 200 г.\n",
    "#Из партии извлечена выборка из 10 пачек. Вес каждой пачки составляет:\n",
    "#202, 203, 199, 197, 195, 201, 200, 204, 194, 190.\n",
    "#Известно, что их веса распределены нормально.\n",
    "#Верно ли утверждение продавца, если учитывать, что доверительная вероятность равна 99%?\n",
    "\n",
    "Mpeche = np.array([202, 203, 199, 197, 195, 201, 200, 204, 194, 190])\n",
    "print(Mpeche)\n"
   ]
  },
  {
   "cell_type": "code",
   "execution_count": 39,
   "metadata": {},
   "outputs": [
    {
     "name": "stdout",
     "output_type": "stream",
     "text": [
      "mean 198.5\n",
      " std 4.453463071962462\n"
     ]
    }
   ],
   "source": [
    "print(f\"mean {Mpeche.mean()}\")\n",
    "print(f\" std {np.std(Mpeche, ddof=1)}\")"
   ]
  },
  {
   "cell_type": "code",
   "execution_count": 40,
   "metadata": {},
   "outputs": [],
   "source": [
    "maxvalPech = Mpeche.mean()+4.781*np.std(Mpeche, ddof=1)/10"
   ]
  },
  {
   "cell_type": "code",
   "execution_count": 42,
   "metadata": {},
   "outputs": [],
   "source": [
    "mainvalPech = Mpeche.mean()-4.781*np.std(Mpeche, ddof=1)/10"
   ]
  },
  {
   "cell_type": "code",
   "execution_count": 43,
   "metadata": {},
   "outputs": [
    {
     "name": "stdout",
     "output_type": "stream",
     "text": [
      "интервал 196.37079930529475 - 200.62920069470525\n"
     ]
    }
   ],
   "source": [
    "print(f\"интервал {mainvalPech} - {maxvalPech}\")"
   ]
  },
  {
   "cell_type": "code",
   "execution_count": null,
   "metadata": {},
   "outputs": [],
   "source": [
    "# отвер - продавец прав"
   ]
  }
 ],
 "metadata": {
  "kernelspec": {
   "display_name": "Python 3",
   "language": "python",
   "name": "python3"
  },
  "language_info": {
   "codemirror_mode": {
    "name": "ipython",
    "version": 3
   },
   "file_extension": ".py",
   "mimetype": "text/x-python",
   "name": "python",
   "nbconvert_exporter": "python",
   "pygments_lexer": "ipython3",
   "version": "3.7.3"
  }
 },
 "nbformat": 4,
 "nbformat_minor": 2
}
