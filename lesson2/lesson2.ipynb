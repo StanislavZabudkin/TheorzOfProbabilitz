{
 "cells": [
  {
   "cell_type": "code",
   "execution_count": 30,
   "metadata": {},
   "outputs": [],
   "source": [
    "from math import factorial\n",
    "import math\n",
    "def combinations(n,k):\n",
    "    return int(factorial(n)/(factorial(k)*factorial(n-k)))"
   ]
  },
  {
   "cell_type": "code",
   "execution_count": 20,
   "metadata": {},
   "outputs": [],
   "source": [
    "def probability(m,n,pin) :\n",
    "    vlambda = int(pin * n)\n",
    "    print(f\"vlambda {vlambda}\")\n",
    "    \n",
    "    preturn = math.pow(vlambda,m)/(factorial(m))*math.pow(math.e,(-1)*vlambda)\n",
    "    \n",
    "    print(preturn)\n",
    "    \n",
    "    return int(preturn)"
   ]
  },
  {
   "cell_type": "code",
   "execution_count": 21,
   "metadata": {},
   "outputs": [
    {
     "name": "stdout",
     "output_type": "stream",
     "text": [
      "vlambda 10\n",
      "0.11373639611012125\n"
     ]
    },
    {
     "data": {
      "text/plain": [
       "0"
      ]
     },
     "execution_count": 21,
     "metadata": {},
     "output_type": "execute_result"
    }
   ],
   "source": [
    "probability(11,1000,0.01)"
   ]
  },
  {
   "cell_type": "code",
   "execution_count": 22,
   "metadata": {},
   "outputs": [],
   "source": [
    "#Вероятность того, что стрелок попадет в мишень, выстрелив один раз, равна 0.8. Стрелок выстрелил 100 раз. \n",
    "#Найдите вероятность того, что стрелок попадет в цель ровно 85 раз."
   ]
  },
  {
   "cell_type": "code",
   "execution_count": 23,
   "metadata": {},
   "outputs": [
    {
     "name": "stdout",
     "output_type": "stream",
     "text": [
      "vlambda 80\n",
      "0.037092614343691946\n"
     ]
    },
    {
     "data": {
      "text/plain": [
       "0"
      ]
     },
     "execution_count": 23,
     "metadata": {},
     "output_type": "execute_result"
    }
   ],
   "source": [
    "probability(85,100,0.8)"
   ]
  },
  {
   "cell_type": "code",
   "execution_count": 27,
   "metadata": {},
   "outputs": [
    {
     "name": "stdout",
     "output_type": "stream",
     "text": [
      "vlambda 2\n",
      "0.1353352832366127\n",
      "vlambda 2\n",
      "0.2706705664732254\n"
     ]
    },
    {
     "data": {
      "text/plain": [
       "0"
      ]
     },
     "execution_count": 27,
     "metadata": {},
     "output_type": "execute_result"
    }
   ],
   "source": [
    "#Вероятность того, что лампочка перегорит в течение первого дня эксплуатации, равна 0.0004. \n",
    "#В жилом комплексе после ремонта в один день включили 5000 новых лампочек. \n",
    "#Какова вероятность, что ни одна из них не перегорит в первый день? Какова вероятность, что перегорят ровно две?\n",
    "probability(0,5000,0.0004)\n",
    "probability(2,5000,0.0004)"
   ]
  },
  {
   "cell_type": "code",
   "execution_count": 29,
   "metadata": {},
   "outputs": [
    {
     "name": "stdout",
     "output_type": "stream",
     "text": [
      "vlambda 72\n",
      "0.046309172162262977\n"
     ]
    },
    {
     "data": {
      "text/plain": [
       "0"
      ]
     },
     "execution_count": 29,
     "metadata": {},
     "output_type": "execute_result"
    }
   ],
   "source": [
    "#Монету подбросили 144 раза. Какова вероятность, что орел выпадет ровно 70 раз?\n",
    "probability(70,144,0.5)"
   ]
  },
  {
   "cell_type": "code",
   "execution_count": 42,
   "metadata": {},
   "outputs": [
    {
     "name": "stdout",
     "output_type": "stream",
     "text": [
      "21\n",
      "45\n",
      " box 1 2 white balls 0.4666666666666667\n",
      "36\n",
      "55\n",
      " box 2 - 2 white balls  0.4666666666666667\n",
      "first task result is 0.3054545454545455 \n"
     ]
    }
   ],
   "source": [
    "#В первом ящике находится 10 мячей, из которых 7 - белые. Во втором ящике - 11 мячей, из которых 9 белых.\n",
    "# Из каждого ящика вытаскивают случайным образом по два мяча. Какова вероятность того, что все мячи белые?\n",
    "# Какова вероятность того, что ровно два мяча белые? Какова вероятность того, что хотя бы один мяч белый?\n",
    "firstBoxCombinations = combinations(7,2)\n",
    "print(firstBoxCombinations)\n",
    "firstBoxComFor2InAll = combinations(10,2)\n",
    "print(firstBoxComFor2InAll)\n",
    "probability1 = firstBoxCombinations/firstBoxComFor2InAll\n",
    "print(f\" box 1 2 white balls {probability1}\")\n",
    "\n",
    "\n",
    "firstBoxCombinations1 = combinations(9,2)\n",
    "print(firstBoxCombinations1)\n",
    "firstBoxComFor2InAll1 = combinations(11,2)\n",
    "print(firstBoxComFor2InAll1)\n",
    "probability2 = firstBoxCombinations1/firstBoxComFor2InAll1\n",
    "print(f\" box 2 - 2 white balls  {probability1}\")\n",
    "\n",
    "\n",
    "#Какова вероятность того, что все мячи белые?\n",
    "print(f\"first task result is {probability1*probability2} \")"
   ]
  },
  {
   "cell_type": "code",
   "execution_count": 43,
   "metadata": {},
   "outputs": [
    {
     "name": "stdout",
     "output_type": "stream",
     "text": [
      "7\n",
      "45\n",
      " box 1 2 white balls 0.15555555555555556\n",
      "9\n",
      "55\n",
      " box 2 - 2 white balls  0.15555555555555556\n",
      "first task result is 0.025454545454545455 \n"
     ]
    }
   ],
   "source": [
    "# Какова вероятность того, что ровно два мяча белые? \n",
    "firstBoxCombinations = combinations(7,1)\n",
    "print(firstBoxCombinations)\n",
    "firstBoxComFor2InAll = combinations(10,2)\n",
    "print(firstBoxComFor2InAll)\n",
    "probability1 = firstBoxCombinations/firstBoxComFor2InAll\n",
    "print(f\" box 1 2 white balls {probability1}\")\n",
    "\n",
    "\n",
    "firstBoxCombinations1 = combinations(9,1)\n",
    "print(firstBoxCombinations1)\n",
    "firstBoxComFor2InAll1 = combinations(11,2)\n",
    "print(firstBoxComFor2InAll1)\n",
    "probability2 = firstBoxCombinations1/firstBoxComFor2InAll1\n",
    "print(f\" box 2 - 2 white balls  {probability1}\")\n",
    "\n",
    "#Какова вероятность того, что все мячи белые?\n",
    "print(f\"first task result is {probability1*probability2} \")"
   ]
  },
  {
   "cell_type": "code",
   "execution_count": 44,
   "metadata": {},
   "outputs": [
    {
     "name": "stdout",
     "output_type": "stream",
     "text": [
      "first task result is 0.3191919191919192 \n"
     ]
    }
   ],
   "source": [
    "#Какова вероятность того, что хотя бы один мяч белый?\n",
    "\n",
    "print(f\"first task result is {probability1+probability2} \")"
   ]
  },
  {
   "cell_type": "code",
   "execution_count": null,
   "metadata": {},
   "outputs": [],
   "source": []
  }
 ],
 "metadata": {
  "kernelspec": {
   "display_name": "Python 3",
   "language": "python",
   "name": "python3"
  },
  "language_info": {
   "codemirror_mode": {
    "name": "ipython",
    "version": 3
   },
   "file_extension": ".py",
   "mimetype": "text/x-python",
   "name": "python",
   "nbconvert_exporter": "python",
   "pygments_lexer": "ipython3",
   "version": "3.7.3"
  }
 },
 "nbformat": 4,
 "nbformat_minor": 2
}
