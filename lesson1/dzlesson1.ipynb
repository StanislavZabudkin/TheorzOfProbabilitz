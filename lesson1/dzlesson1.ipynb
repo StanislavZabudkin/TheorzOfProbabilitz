{
 "cells": [
  {
   "cell_type": "code",
   "execution_count": 1,
   "metadata": {},
   "outputs": [],
   "source": [
    "from math import factorial"
   ]
  },
  {
   "cell_type": "code",
   "execution_count": 2,
   "metadata": {},
   "outputs": [],
   "source": [
    "def combinations(n,k):\n",
    "    return int(factorial(n)/(factorial(k)*factorial(n-k)))"
   ]
  },
  {
   "cell_type": "code",
   "execution_count": 3,
   "metadata": {},
   "outputs": [
    {
     "data": {
      "text/plain": [
       "58905"
      ]
     },
     "execution_count": 3,
     "metadata": {},
     "output_type": "execute_result"
    }
   ],
   "source": [
    "combinations(36,4)"
   ]
  },
  {
   "cell_type": "code",
   "execution_count": 5,
   "metadata": {},
   "outputs": [],
   "source": [
    "def arrangements(n,k):\n",
    "    return int(factorial(n)/factorial(n-k))"
   ]
  },
  {
   "cell_type": "code",
   "execution_count": 6,
   "metadata": {},
   "outputs": [
    {
     "data": {
      "text/plain": [
       "1860480"
      ]
     },
     "execution_count": 6,
     "metadata": {},
     "output_type": "execute_result"
    }
   ],
   "source": [
    "arrangements(20,5)"
   ]
  },
  {
   "cell_type": "code",
   "execution_count": 8,
   "metadata": {},
   "outputs": [],
   "source": [
    "def permutations(n):\n",
    "    return int(factorial(n))"
   ]
  },
  {
   "cell_type": "code",
   "execution_count": 9,
   "metadata": {},
   "outputs": [
    {
     "data": {
      "text/plain": [
       "120"
      ]
     },
     "execution_count": 9,
     "metadata": {},
     "output_type": "execute_result"
    }
   ],
   "source": [
    "permutations(5)"
   ]
  },
  {
   "cell_type": "code",
   "execution_count": 13,
   "metadata": {},
   "outputs": [
    {
     "name": "stdout",
     "output_type": "stream",
     "text": [
      "715\n"
     ]
    }
   ],
   "source": [
    "#dz 1) Из колоды в 52 карты извлекаются случайным образом 4 карты. \n",
    "# a) Найти вероятность того, что все карты – крести. б) Найти вероятность, что среди 4-х карт окажется хотя бы один туз.\n",
    "# всего крестей - 52/4 = 13\n",
    " # a) найти сочетания 4 из 13\n",
    "kre4 = combinations(13,4)\n",
    "print(kre4)"
   ]
  },
  {
   "cell_type": "code",
   "execution_count": 11,
   "metadata": {},
   "outputs": [
    {
     "name": "stdout",
     "output_type": "stream",
     "text": [
      "270725\n"
     ]
    }
   ],
   "source": [
    "allkre = combinations(52,4)\n",
    "print(allkre)"
   ]
  },
  {
   "cell_type": "code",
   "execution_count": 12,
   "metadata": {},
   "outputs": [
    {
     "name": "stdout",
     "output_type": "stream",
     "text": [
      "0.0026410564225690276\n"
     ]
    }
   ],
   "source": [
    "#вероятность \n",
    "p = 715/270725\n",
    "print (p)"
   ]
  },
  {
   "cell_type": "code",
   "execution_count": 15,
   "metadata": {},
   "outputs": [
    {
     "name": "stdout",
     "output_type": "stream",
     "text": [
      "4\n"
     ]
    }
   ],
   "source": [
    "# b)\n",
    "tuz1 = combinations(4,1)\n",
    "print(tuz1)"
   ]
  },
  {
   "cell_type": "code",
   "execution_count": 19,
   "metadata": {},
   "outputs": [
    {
     "name": "stdout",
     "output_type": "stream",
     "text": [
      "17296\n"
     ]
    }
   ],
   "source": [
    "other4 = combinations(48,3)\n",
    "print(other4)"
   ]
  },
  {
   "cell_type": "code",
   "execution_count": 20,
   "metadata": {},
   "outputs": [
    {
     "name": "stdout",
     "output_type": "stream",
     "text": [
      "69184\n"
     ]
    }
   ],
   "source": [
    "allpossibleVariants = other4*tuz1\n",
    "print(allpossibleVariants)"
   ]
  },
  {
   "cell_type": "code",
   "execution_count": 23,
   "metadata": {},
   "outputs": [],
   "source": [
    "p = allpossibleVariants /allkre"
   ]
  },
  {
   "cell_type": "code",
   "execution_count": 24,
   "metadata": {},
   "outputs": [
    {
     "name": "stdout",
     "output_type": "stream",
     "text": [
      "0.25555083571890297\n"
     ]
    }
   ],
   "source": [
    "print(p)"
   ]
  },
  {
   "cell_type": "code",
   "execution_count": 27,
   "metadata": {},
   "outputs": [
    {
     "name": "stdout",
     "output_type": "stream",
     "text": [
      "504\n"
     ]
    }
   ],
   "source": [
    "# 2) На входной двери подъезда установлен кодовый замок, \n",
    "# содержащий десять кнопок с цифрами от 0 до 9. \n",
    "# Код содержит три цифры, которые нужно нажать одновременно. \n",
    "# Какова вероятность того, что человек, не знающий код, откроет дверь с первой попытки?\n",
    "\n",
    "allcombZamok = arrangements(9,3)\n",
    "print(allcombZamok)"
   ]
  },
  {
   "cell_type": "code",
   "execution_count": 29,
   "metadata": {},
   "outputs": [
    {
     "name": "stdout",
     "output_type": "stream",
     "text": [
      "0.001984126984126984\n"
     ]
    }
   ],
   "source": [
    "# вероятность открытия с первой попытки\n",
    "pv = 1/504\n",
    "print(pv)"
   ]
  },
  {
   "cell_type": "code",
   "execution_count": 33,
   "metadata": {},
   "outputs": [
    {
     "name": "stdout",
     "output_type": "stream",
     "text": [
      "455\n",
      "84\n",
      "0.18461538461538463\n"
     ]
    }
   ],
   "source": [
    "# №3)  В ящике имеется 15 деталей, из которых 9 окрашены. \n",
    "# Рабочий случайным образом извлекает 3 детали. \n",
    "# Какова вероятность того, что все извлеченные детали окрашены?\n",
    "allPainted = combinations(15,3)\n",
    "print(allPainted)\n",
    "paintedOnly = combinations(9,3)\n",
    "print(paintedOnly)\n",
    "probability = paintedOnly/allPainted\n",
    "print(probability)"
   ]
  },
  {
   "cell_type": "code",
   "execution_count": 35,
   "metadata": {},
   "outputs": [
    {
     "name": "stdout",
     "output_type": "stream",
     "text": [
      "4950\n"
     ]
    }
   ],
   "source": [
    "#4) В лотерее 100 билетов. Из них 2 выигрышных. Какова вероятность того, что 2 приобретенных билета окажутся выигрышными? \n",
    "allCombinations = combinations(100,2)\n",
    "print(allCombinations)"
   ]
  },
  {
   "cell_type": "code",
   "execution_count": 36,
   "metadata": {},
   "outputs": [
    {
     "name": "stdout",
     "output_type": "stream",
     "text": [
      "0.00020202020202020202\n"
     ]
    }
   ],
   "source": [
    "probability = 1/4950\n",
    "print (probability)"
   ]
  },
  {
   "cell_type": "code",
   "execution_count": null,
   "metadata": {},
   "outputs": [],
   "source": []
  }
 ],
 "metadata": {
  "kernelspec": {
   "display_name": "Python 3",
   "language": "python",
   "name": "python3"
  },
  "language_info": {
   "codemirror_mode": {
    "name": "ipython",
    "version": 3
   },
   "file_extension": ".py",
   "mimetype": "text/x-python",
   "name": "python",
   "nbconvert_exporter": "python",
   "pygments_lexer": "ipython3",
   "version": "3.7.3"
  }
 },
 "nbformat": 4,
 "nbformat_minor": 2
}
