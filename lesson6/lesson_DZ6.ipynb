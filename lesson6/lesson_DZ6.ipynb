{
 "cells": [
  {
   "cell_type": "code",
   "execution_count": 53,
   "metadata": {},
   "outputs": [],
   "source": [
    "import numpy as np\n",
    "import pandas as pd\n",
    "import math"
   ]
  },
  {
   "cell_type": "code",
   "execution_count": 3,
   "metadata": {},
   "outputs": [],
   "source": [
    "nzp = np.array([35, 45, 190, 200, 40, 70, 54, 150, 120, 110])\n",
    "nks = np.array([401, 574, 874, 919, 459, 739, 653, 902, 746, 832])"
   ]
  },
  {
   "cell_type": "markdown",
   "metadata": {},
   "source": [
    "np.cov(nzp,nks)"
   ]
  },
  {
   "cell_type": "code",
   "execution_count": null,
   "metadata": {},
   "outputs": [],
   "source": [
    "#1.Найдите ковариацию этих двух величин с помощью элементарных действий,\n",
    "#  а затем с помощью функции cov из numpy Полученные значения должны быть равны. \n",
    "#  Найдите коэффициент корреляции Пирсона с помощью ковариации и среднеквадратичных отклонений двух признаков, \n",
    "#  а затем с использованием функций из библиотек numpy и pandas."
   ]
  },
  {
   "cell_type": "code",
   "execution_count": 41,
   "metadata": {},
   "outputs": [
    {
     "name": "stdout",
     "output_type": "stream",
     "text": [
      "62.31318747531162\n"
     ]
    }
   ],
   "source": [
    "stdNzp = np.std(nzp,ddof=1)\n",
    "print(stdNzp)"
   ]
  },
  {
   "cell_type": "code",
   "execution_count": 42,
   "metadata": {},
   "outputs": [
    {
     "name": "stdout",
     "output_type": "stream",
     "text": [
      "183.99544076477068\n"
     ]
    }
   ],
   "source": [
    "stdNks = np.std(nks,ddof=1)\n",
    "print(stdNks)"
   ]
  },
  {
   "cell_type": "code",
   "execution_count": 46,
   "metadata": {},
   "outputs": [
    {
     "name": "stdout",
     "output_type": "stream",
     "text": [
      "9157.839999999997\n"
     ]
    }
   ],
   "source": [
    "#cov_xy = M(xy)-M(x)*M(Y)\n",
    "covNzpNks = np.mean(nzp*nks)-np.mean(nzp)*np.mean(nks)\n",
    "print(covNzpNks)"
   ]
  },
  {
   "cell_type": "code",
   "execution_count": 47,
   "metadata": {},
   "outputs": [
    {
     "name": "stdout",
     "output_type": "stream",
     "text": [
      "[[ 3494.64  9157.84]\n",
      " [ 9157.84 30468.89]]\n"
     ]
    }
   ],
   "source": [
    "npcov0 = np.cov(nzp,nks,ddof=0)\n",
    "print(npcov0)"
   ]
  },
  {
   "cell_type": "code",
   "execution_count": 43,
   "metadata": {},
   "outputs": [
    {
     "name": "stdout",
     "output_type": "stream",
     "text": [
      "[[ 3882.93333333 10175.37777778]\n",
      " [10175.37777778 33854.32222222]]\n"
     ]
    }
   ],
   "source": [
    "npcov = np.cov(nzp,nks,ddof=1)\n",
    "print(npcov)"
   ]
  },
  {
   "cell_type": "code",
   "execution_count": 44,
   "metadata": {},
   "outputs": [
    {
     "name": "stdout",
     "output_type": "stream",
     "text": [
      "[[0.33866702 0.88749009]\n",
      " [0.88749009 2.95275283]]\n"
     ]
    }
   ],
   "source": [
    "# koef Pirson rxy = cov_xy/(sigmaX*sigmaY)\n",
    "rPirs = npcov /(stdNzp*stdNks)\n",
    "print(rPirs)\n"
   ]
  },
  {
   "cell_type": "code",
   "execution_count": 45,
   "metadata": {},
   "outputs": [
    {
     "data": {
      "text/plain": [
       "array([[1.        , 0.88749009],\n",
       "       [0.88749009, 1.        ]])"
      ]
     },
     "execution_count": 45,
     "metadata": {},
     "output_type": "execute_result"
    }
   ],
   "source": [
    "np.corrcoef(nzp,nks)"
   ]
  },
  {
   "cell_type": "code",
   "execution_count": 51,
   "metadata": {},
   "outputs": [
    {
     "name": "stdout",
     "output_type": "stream",
     "text": [
      "mean 118.1\n",
      "sdt 10.54566788359614\n",
      "интервал 115.71456992473054 - 120.48543007526945\n"
     ]
    }
   ],
   "source": [
    "#2.Измерены значения IQ выборки студентов,\n",
    "#  обучающихся в местных технических вузах:\n",
    "#    131, 125, 115, 122, 131, 115, 107, 99, 125, 111.\n",
    "#    Известно, что в генеральной совокупности IQ распределен нормально.\n",
    "#    Найдите доверительный интервал для математического ожидания с надежностью 0.95.\n",
    "\n",
    "npa = np.array([131, 125, 115, 122, 131, 115, 107, 99, 125, 111])\n",
    "\n",
    "print(f\"mean {npa.mean()}\")\n",
    "print(f\"sdt {np.std(npa, ddof=1)}\")\n",
    "maxval = npa.mean()+2.262*np.std(npa, ddof=1)/10\n",
    "minval = npa.mean()-2.262*np.std(npa, ddof=1)/10\n",
    "print(f\"интервал {minval} - {maxval}\")\n",
    "\n",
    "# Известно, что рост футболистов в сборной распределен нормально с дисперсией генеральной совокупности,\n",
    "#  равной 25 кв.см. Объем выборки равен 27, среднее выборочное составляет 174.2. \n",
    "# Найдите доверительный интервал для математического ожидания с надежностью 0.95\n",
    "."
   ]
  },
  {
   "cell_type": "code",
   "execution_count": 56,
   "metadata": {},
   "outputs": [
    {
     "name": "stdout",
     "output_type": "stream",
     "text": [
      "интервал 172.31398912064722 - 176.08601087935276\n"
     ]
    }
   ],
   "source": [
    "# формула X+-Za/2*Sigma/sqrt(n)\n",
    "\n",
    "dmin=174.2-1.96*5/math.sqrt(27)\n",
    "dmax=174.2+1.96*5/math.sqrt(27)\n",
    "print(f\"интервал {dmin} - {dmax}\")"
   ]
  },
  {
   "cell_type": "code",
   "execution_count": null,
   "metadata": {},
   "outputs": [],
   "source": []
  }
 ],
 "metadata": {
  "kernelspec": {
   "display_name": "Python 3",
   "language": "python",
   "name": "python3"
  },
  "language_info": {
   "codemirror_mode": {
    "name": "ipython",
    "version": 3
   },
   "file_extension": ".py",
   "mimetype": "text/x-python",
   "name": "python",
   "nbconvert_exporter": "python",
   "pygments_lexer": "ipython3",
   "version": "3.7.3"
  }
 },
 "nbformat": 4,
 "nbformat_minor": 2
}
